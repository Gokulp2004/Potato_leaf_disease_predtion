{
 "cells": [
  {
   "cell_type": "code",
   "execution_count": null,
   "id": "e5bdd148-afe3-40ac-ba94-2ed8990e712c",
   "metadata": {},
   "outputs": [],
   "source": []
  }
 ],
 "metadata": {
  "kernelspec": {
   "display_name": "",
   "name": ""
  },
  "language_info": {
   "name": ""
  }
 },
 "nbformat": 4,
 "nbformat_minor": 5
}
